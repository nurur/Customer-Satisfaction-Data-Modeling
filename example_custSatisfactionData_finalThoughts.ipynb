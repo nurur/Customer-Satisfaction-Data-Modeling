{
 "cells": [
  {
   "cell_type": "markdown",
   "metadata": {},
   "source": [
    "# Part 4 : Final Thoughts"
   ]
  },
  {
   "cell_type": "markdown",
   "metadata": {},
   "source": [
    "---"
   ]
  },
  {
   "cell_type": "markdown",
   "metadata": {},
   "source": [
    "A classification model can be build using the data to predict if a customer was not satisfied by their flight immediately after they submit a survey. We have explored CatBoost and XGBoost methods to build the model. \n",
    "\n",
    "If all predictors are included both methods perform well measured by overal accuracy ~ 95%-97%.\n",
    "\n",
    "Modeling exercise suggest that some of the predictors appear to be highly informative in predicting satisfaction. These includes Type_Of_Travel, Inflight_Wifi_Service, Online_Boarding, Class, Customer_Type. We notice that although these features pass the response leakage test but more knowledge from domain experts will be helpful \n",
    "for the Data Scientists to better asses similar features in the future model building.     \n",
    "\n",
    "One can build a completely different model using only these all predictors variables and would still achieve overall accuracy ~90%. The predictive power of these features are also observed qualitatively during EDA in the Exercise 2.  "
   ]
  },
  {
   "cell_type": "markdown",
   "metadata": {},
   "source": [
    "---"
   ]
  },
  {
   "cell_type": "markdown",
   "metadata": {},
   "source": [
    "#### Assumptions Made in Building the Classification Model:\n",
    "\n",
    "$\\bullet$ Assumption 1 :\n",
    "\n",
    "A few categorical features have missing values. We have imputed these missing values after analyzing the \n",
    "subset of the data where a particular feature has missing values. We explored the frequency of catagories, \n",
    "from 0 to 5, in all features and assigned the lowest catagory to imput the null value. Our approach is to \n",
    "have a clean dataset rather than let CatBoost to handle the missing levels as a seprate category in the \n",
    "feature. In both cases the change in model performance is insignificant (~0.1%).   \n",
    "\n",
    "\n",
    "$\\bullet$ Assumption 2:\n",
    "\n",
    "One of the assumptions that we have while building the model is that the class distribution is balanced. \n",
    "Although the data is slightly skewed {43%,57%} for the {positive=0=satisfied,negative=1=dissatisfied} but \n",
    "the assumption of balanced data does not impact model performnace. We have explored both cases and noticed \n",
    "a difference of ~ 0.3%. We, therefore, decided to build a simpler model following our assumption.     "
   ]
  }
 ],
 "metadata": {
  "kernelspec": {
   "display_name": "Python 3 (ipykernel)",
   "language": "python",
   "name": "python3"
  },
  "language_info": {
   "codemirror_mode": {
    "name": "ipython",
    "version": 3
   },
   "file_extension": ".py",
   "mimetype": "text/x-python",
   "name": "python",
   "nbconvert_exporter": "python",
   "pygments_lexer": "ipython3",
   "version": "3.10.8"
  }
 },
 "nbformat": 4,
 "nbformat_minor": 4
}
