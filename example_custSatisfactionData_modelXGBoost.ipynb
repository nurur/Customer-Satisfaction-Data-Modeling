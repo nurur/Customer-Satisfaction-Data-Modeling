{
 "cells": [
  {
   "cell_type": "markdown",
   "metadata": {},
   "source": [
    "# Part 3 : Build Model using  XGBoost\n",
    "\n",
    "Python Packages Used : \n",
    "1. data processing : numpy, pandas, regular expression(re)\n",
    "2. data modeling   : sklearn, XGBoost"
   ]
  },
  {
   "cell_type": "markdown",
   "metadata": {},
   "source": [
    "### Organization of the Notebook\n",
    "\n",
    "Part 1: Load Packages \n",
    "\n",
    "Part 2: Read Data \n",
    "\n",
    "Part 3: Process Data \n",
    "\n",
    "Part 4: Build Model\n",
    "\n",
    "1. Check Class Labels & Label Weights\n",
    "\n",
    "2. Split Data : Train (80%) and Test (20%) \n",
    "\n",
    "3. Build Model using Default Parameters \n",
    "\n",
    "4. Apply Model on the Test Data\n",
    "\n",
    "5. Model Performnace on the Test Data\n",
    "\n",
    "6. Feature Importance "
   ]
  },
  {
   "cell_type": "markdown",
   "metadata": {},
   "source": [
    "## Part 1: Load Packages"
   ]
  },
  {
   "cell_type": "code",
   "execution_count": 1,
   "metadata": {},
   "outputs": [],
   "source": [
    "import pandas as pd\n",
    "import numpy as np\n",
    "import re"
   ]
  },
  {
   "cell_type": "code",
   "execution_count": 2,
   "metadata": {},
   "outputs": [],
   "source": [
    "import matplotlib\n",
    "import matplotlib.pyplot as plt"
   ]
  },
  {
   "cell_type": "code",
   "execution_count": 3,
   "metadata": {},
   "outputs": [],
   "source": [
    "from xgboost import XGBClassifier\n",
    "from sklearn.metrics import accuracy_score, roc_auc_score \n",
    "from sklearn.model_selection import train_test_split\n",
    "import shap"
   ]
  },
  {
   "cell_type": "code",
   "execution_count": 4,
   "metadata": {},
   "outputs": [],
   "source": [
    "%matplotlib inline"
   ]
  },
  {
   "cell_type": "markdown",
   "metadata": {},
   "source": [
    "## Part 2: Read Data"
   ]
  },
  {
   "cell_type": "code",
   "execution_count": 5,
   "metadata": {},
   "outputs": [],
   "source": [
    "df = pd.read_excel(\"data_customerSatisfaction.xlsx\", engine=\"openpyxl\")"
   ]
  },
  {
   "cell_type": "code",
   "execution_count": 6,
   "metadata": {},
   "outputs": [
    {
     "name": "stdout",
     "output_type": "stream",
     "text": [
      "Shape of the Dataframe : (129880, 24)\n"
     ]
    }
   ],
   "source": [
    "print(\"Shape of the Dataframe :\", df.shape)"
   ]
  },
  {
   "cell_type": "markdown",
   "metadata": {},
   "source": [
    "## Part 3: Process Data"
   ]
  },
  {
   "cell_type": "code",
   "execution_count": 7,
   "metadata": {},
   "outputs": [
    {
     "name": "stdout",
     "output_type": "stream",
     "text": [
      "['id', 'SatisfactionType', 'Gender', 'CustomerType', 'Age', 'Type of Travel', 'Class', 'Flight Distance', 'Inflight wifi service', 'Departure/Arrival time convenient', 'Ease of Online booking', 'Gate location', 'Food and drink', 'Online boarding', 'Seat comfort', 'Inflight entertainment', 'On-board service', 'Leg room service', 'Baggage handling', 'Checkin service', 'Inflight service', 'Cleanliness', 'Departure Delay in Minutes', 'Arrival Delay in Minutes']\n"
     ]
    }
   ],
   "source": [
    "print( df.columns.to_list() )"
   ]
  },
  {
   "cell_type": "code",
   "execution_count": 8,
   "metadata": {},
   "outputs": [],
   "source": [
    "\"\"\"Fix Column Names : Remove White Spaces & Slashes\"\"\"\n",
    "oldName = df.columns.to_list()\n",
    "newName = [re.sub(\" \", \"_\", x.title()) for x in oldName]\n",
    "colName = {oldName[i]: newName[i] for i in range(len(oldName))} \n",
    "df = df.rename(columns=colName)\n",
    "df = df.rename(columns={\"Departure/Arrival_Time_Convenient\":\"Departure_Arrival_Time_Convenient\"})"
   ]
  },
  {
   "cell_type": "code",
   "execution_count": 9,
   "metadata": {},
   "outputs": [],
   "source": [
    "#print( df.dtypes )"
   ]
  },
  {
   "cell_type": "markdown",
   "metadata": {},
   "source": [
    "#### Drop Column \"id\"\n",
    "\n",
    "Unique integer. It does not have any leverage in the modeling compared to other features."
   ]
  },
  {
   "cell_type": "code",
   "execution_count": 10,
   "metadata": {},
   "outputs": [],
   "source": [
    "df = df.drop([\"Id\"], axis=1)  "
   ]
  },
  {
   "cell_type": "markdown",
   "metadata": {},
   "source": [
    "#### Replace Age Null Values by Median Age"
   ]
  },
  {
   "cell_type": "code",
   "execution_count": 11,
   "metadata": {},
   "outputs": [],
   "source": [
    "medianAge = df.loc[df['Age'].isnull()==False, 'Age'].median()\n",
    "df.loc[df['Age'].isnull()==True, 'Age'] = medianAge"
   ]
  },
  {
   "cell_type": "markdown",
   "metadata": {},
   "source": [
    "#### Leg Room Service has Catagores like 0,1,2,3,4,5,44,55. Change 44,55 to 0 "
   ]
  },
  {
   "cell_type": "code",
   "execution_count": 12,
   "metadata": {},
   "outputs": [],
   "source": [
    "\"\"\"Fix Leg Room Service\"\"\"\n",
    "df.loc[ df[\"Leg_Room_Service\"] > 5, \"Leg_Room_Service\"] = 0"
   ]
  },
  {
   "cell_type": "markdown",
   "metadata": {},
   "source": [
    "#### Replace Food and Drink Null Values by 1\n",
    "\n",
    "Find the subset of data having \"Online Boarding=Null\"\n",
    "\n",
    "Explore the data property on all other categorical columns in this subset\n",
    "\n",
    "Assign category to \"Online Boarding=Null\" based on the observed property of the subset "
   ]
  },
  {
   "cell_type": "code",
   "execution_count": 13,
   "metadata": {},
   "outputs": [],
   "source": [
    "\"\"\"Fix Food and Drink\"\"\"\n",
    "#df[ df[\"Food and drink\"].isnull()==True ]   # DisLoyal but Satisfied\n",
    "df.loc[ df[\"Food_And_Drink\"].isnull()==True, \"Food_And_Drink\" ] = 1.0"
   ]
  },
  {
   "cell_type": "markdown",
   "metadata": {},
   "source": [
    "#### Replace Online Boarding Null Values  by 1\n",
    "\n",
    "Following the procedure in \"Food and Drink\""
   ]
  },
  {
   "cell_type": "code",
   "execution_count": 14,
   "metadata": {},
   "outputs": [],
   "source": [
    "\"\"\"Fix Online Boarding\"\"\"\n",
    "# df[ df[\"Online boarding\"].isnull()==True ] # Loyal and Satisfied\n",
    "df.loc[ df[\"Online_Boarding\"].isnull()==True, \"Online_Boarding\" ] = 1.0"
   ]
  },
  {
   "cell_type": "markdown",
   "metadata": {},
   "source": [
    "#### Maximum Flight Distance is 9999999. Replace it by Column Median\n",
    "\n",
    "Flight Distance has outliers\n",
    "\n",
    "Replace outliers by the column mdedian. Median itself is insensitive to outliers in the data."
   ]
  },
  {
   "cell_type": "code",
   "execution_count": 15,
   "metadata": {},
   "outputs": [],
   "source": [
    "\"\"\"Flight Distance\"\"\"\n",
    "# print( df[\"Flight Distance\"].mean() ) \n",
    "# print( df[\"Flight Distance\"].max() )\n",
    "distList = sorted( df[\"Flight_Distance\"].unique(), reverse= True)\n",
    "df.loc[ df[\"Flight_Distance\"] > distList[1],  \"Flight_Distance\"] = df[\"Flight_Distance\"].median()\n",
    "# print( df[\"Flight Distance\"].mean() ) \n",
    "# print( df[\"Flight Distance\"].max() )"
   ]
  },
  {
   "cell_type": "markdown",
   "metadata": {},
   "source": [
    "#### Replace Baggage Handling Null values by 0"
   ]
  },
  {
   "cell_type": "code",
   "execution_count": 16,
   "metadata": {},
   "outputs": [],
   "source": [
    "df.loc[ df[\"Baggage_Handling\"].isnull() == True, \"Baggage_Handling\" ] = 0"
   ]
  },
  {
   "cell_type": "markdown",
   "metadata": {},
   "source": [
    "#### Departure Delay in Minutes and Arrival Delay in Minutes are Strongly Correlated (r ~ 0.99) "
   ]
  },
  {
   "cell_type": "code",
   "execution_count": 17,
   "metadata": {},
   "outputs": [],
   "source": [
    "\"\"\"Drop Arrival Delay in Minutes instead of Departure Delay in Minutes\"\"\"\n",
    "df = df.drop([\"Arrival_Delay_In_Minutes\"], axis=1)  "
   ]
  },
  {
   "cell_type": "markdown",
   "metadata": {},
   "source": [
    "#### Make the Dataframe with Appropriate Data Types "
   ]
  },
  {
   "cell_type": "markdown",
   "metadata": {},
   "source": [
    "Feature with Float Data Type"
   ]
  },
  {
   "cell_type": "code",
   "execution_count": 18,
   "metadata": {},
   "outputs": [],
   "source": [
    "df_float = df[['Age','Flight_Distance','Departure_Delay_In_Minutes']].copy()\n",
    "df_float = df_float.astype('float64')\n",
    "nFloat = df_float.shape[1]"
   ]
  },
  {
   "cell_type": "code",
   "execution_count": 19,
   "metadata": {},
   "outputs": [],
   "source": [
    "df_feature = df.dtypes.to_frame().reset_index().rename(columns={\"index\": \"Feature\", 0: 'FeatureType'})\n",
    "theObjects = df_feature[ df_feature['FeatureType'] == 'object']\n",
    "df_object  = df[ theObjects['Feature'] ].copy() "
   ]
  },
  {
   "cell_type": "markdown",
   "metadata": {},
   "source": [
    "Feature with Interger Data Type"
   ]
  },
  {
   "cell_type": "code",
   "execution_count": 20,
   "metadata": {},
   "outputs": [],
   "source": [
    "object_float_list = df_object.columns.to_list() + df_float.columns.to_list() \n",
    "colList = set( df.columns.to_list() )\n",
    "ofList  = set( object_float_list )\n",
    "colList.difference_update( ofList )\n",
    "df_int = df[ list(colList) ].copy()\n",
    "df_int = df_int.astype('int64')\n",
    "df_str = df_int.astype('str')"
   ]
  },
  {
   "cell_type": "code",
   "execution_count": 21,
   "metadata": {},
   "outputs": [
    {
     "data": {
      "text/html": [
       "<div>\n",
       "<style scoped>\n",
       "    .dataframe tbody tr th:only-of-type {\n",
       "        vertical-align: middle;\n",
       "    }\n",
       "\n",
       "    .dataframe tbody tr th {\n",
       "        vertical-align: top;\n",
       "    }\n",
       "\n",
       "    .dataframe thead th {\n",
       "        text-align: right;\n",
       "    }\n",
       "</style>\n",
       "<table border=\"1\" class=\"dataframe\">\n",
       "  <thead>\n",
       "    <tr style=\"text-align: right;\">\n",
       "      <th></th>\n",
       "      <th>Satisfactiontype</th>\n",
       "      <th>Gender</th>\n",
       "      <th>Customertype</th>\n",
       "      <th>Type_Of_Travel</th>\n",
       "      <th>Class</th>\n",
       "    </tr>\n",
       "  </thead>\n",
       "  <tbody>\n",
       "    <tr>\n",
       "      <th>0</th>\n",
       "      <td>satisfied</td>\n",
       "      <td>Male</td>\n",
       "      <td>disloyal Customer</td>\n",
       "      <td>Personal Travel</td>\n",
       "      <td>Eco</td>\n",
       "    </tr>\n",
       "    <tr>\n",
       "      <th>1</th>\n",
       "      <td>satisfied</td>\n",
       "      <td>Male</td>\n",
       "      <td>disloyal Customer</td>\n",
       "      <td>Personal Travel</td>\n",
       "      <td>Eco</td>\n",
       "    </tr>\n",
       "    <tr>\n",
       "      <th>2</th>\n",
       "      <td>satisfied</td>\n",
       "      <td>Male</td>\n",
       "      <td>disloyal Customer</td>\n",
       "      <td>Personal Travel</td>\n",
       "      <td>Eco</td>\n",
       "    </tr>\n",
       "    <tr>\n",
       "      <th>3</th>\n",
       "      <td>satisfied</td>\n",
       "      <td>Female</td>\n",
       "      <td>disloyal Customer</td>\n",
       "      <td>Personal Travel</td>\n",
       "      <td>Eco</td>\n",
       "    </tr>\n",
       "    <tr>\n",
       "      <th>4</th>\n",
       "      <td>satisfied</td>\n",
       "      <td>Male</td>\n",
       "      <td>disloyal Customer</td>\n",
       "      <td>Personal Travel</td>\n",
       "      <td>Eco</td>\n",
       "    </tr>\n",
       "    <tr>\n",
       "      <th>...</th>\n",
       "      <td>...</td>\n",
       "      <td>...</td>\n",
       "      <td>...</td>\n",
       "      <td>...</td>\n",
       "      <td>...</td>\n",
       "    </tr>\n",
       "    <tr>\n",
       "      <th>129875</th>\n",
       "      <td>satisfied</td>\n",
       "      <td>Female</td>\n",
       "      <td>Loyal Customer</td>\n",
       "      <td>Business travel</td>\n",
       "      <td>Business</td>\n",
       "    </tr>\n",
       "    <tr>\n",
       "      <th>129876</th>\n",
       "      <td>satisfied</td>\n",
       "      <td>Female</td>\n",
       "      <td>Loyal Customer</td>\n",
       "      <td>Business travel</td>\n",
       "      <td>Eco</td>\n",
       "    </tr>\n",
       "    <tr>\n",
       "      <th>129877</th>\n",
       "      <td>satisfied</td>\n",
       "      <td>Male</td>\n",
       "      <td>Loyal Customer</td>\n",
       "      <td>Business travel</td>\n",
       "      <td>Business</td>\n",
       "    </tr>\n",
       "    <tr>\n",
       "      <th>129878</th>\n",
       "      <td>satisfied</td>\n",
       "      <td>Female</td>\n",
       "      <td>Loyal Customer</td>\n",
       "      <td>Business travel</td>\n",
       "      <td>Business</td>\n",
       "    </tr>\n",
       "    <tr>\n",
       "      <th>129879</th>\n",
       "      <td>satisfied</td>\n",
       "      <td>Female</td>\n",
       "      <td>Loyal Customer</td>\n",
       "      <td>Business travel</td>\n",
       "      <td>Business</td>\n",
       "    </tr>\n",
       "  </tbody>\n",
       "</table>\n",
       "<p>129880 rows × 5 columns</p>\n",
       "</div>"
      ],
      "text/plain": [
       "       Satisfactiontype  Gender       Customertype   Type_Of_Travel     Class\n",
       "0             satisfied    Male  disloyal Customer  Personal Travel       Eco\n",
       "1             satisfied    Male  disloyal Customer  Personal Travel       Eco\n",
       "2             satisfied    Male  disloyal Customer  Personal Travel       Eco\n",
       "3             satisfied  Female  disloyal Customer  Personal Travel       Eco\n",
       "4             satisfied    Male  disloyal Customer  Personal Travel       Eco\n",
       "...                 ...     ...                ...              ...       ...\n",
       "129875        satisfied  Female     Loyal Customer  Business travel  Business\n",
       "129876        satisfied  Female     Loyal Customer  Business travel       Eco\n",
       "129877        satisfied    Male     Loyal Customer  Business travel  Business\n",
       "129878        satisfied  Female     Loyal Customer  Business travel  Business\n",
       "129879        satisfied  Female     Loyal Customer  Business travel  Business\n",
       "\n",
       "[129880 rows x 5 columns]"
      ]
     },
     "execution_count": 21,
     "metadata": {},
     "output_type": "execute_result"
    }
   ],
   "source": [
    "df_object"
   ]
  },
  {
   "cell_type": "markdown",
   "metadata": {},
   "source": [
    "#### Convert Categorical to Integer Type "
   ]
  },
  {
   "cell_type": "markdown",
   "metadata": {},
   "source": [
    "`Define Response Variable`\n",
    "\n",
    "0 = \"satisfied\"\n",
    "1 = \"neutral or dissatisfied\""
   ]
  },
  {
   "cell_type": "code",
   "execution_count": 22,
   "metadata": {},
   "outputs": [],
   "source": [
    "df_object['Y'] = df_object.apply(lambda row: 0 if row.Satisfactiontype==\"satisfied\" else 1, axis=1)"
   ]
  },
  {
   "cell_type": "code",
   "execution_count": 23,
   "metadata": {},
   "outputs": [],
   "source": [
    "# df_object['Gender'] = df_object.apply(lambda row: 0 if row.Gender==\"Female\" else 1, axis=1)\n",
    "# df_object['Customer_Type'] = df_object.apply(lambda row: 0 if row.Customer_Type==\"disloyal Customer\" else 1, axis=1)\n",
    "# df_object['Type_Of_Travel'] = df_object.apply(lambda row: 0 if row.Type_Of_Travel==\"Business travel\" else 1, axis=1)\n",
    "# df_object['Class'] = df_object.apply(lambda row: 0 if row.Class==\"Business\" else 1 if row.Class==\"Eco\" else 2, axis=1)"
   ]
  },
  {
   "cell_type": "code",
   "execution_count": 24,
   "metadata": {},
   "outputs": [],
   "source": [
    "\"\"\"Dropping Satisfaction_V2. It is replaced by feature Y\"\"\"\n",
    "df_object = df_object.drop(['Satisfactiontype'], axis=1)"
   ]
  },
  {
   "cell_type": "markdown",
   "metadata": {},
   "source": [
    "Dummy Coding "
   ]
  },
  {
   "cell_type": "code",
   "execution_count": 25,
   "metadata": {},
   "outputs": [],
   "source": [
    "df_cat = pd.concat([df_object, df_str], axis=1)\n",
    "df_dum = pd.get_dummies(df_cat)"
   ]
  },
  {
   "cell_type": "markdown",
   "metadata": {},
   "source": [
    "Concate the Splitted Parts Back"
   ]
  },
  {
   "cell_type": "code",
   "execution_count": 26,
   "metadata": {},
   "outputs": [
    {
     "name": "stdout",
     "output_type": "stream",
     "text": [
      "Shape of the final dataframe : (129880, 97)\n"
     ]
    }
   ],
   "source": [
    "\"\"\"Final Dataframe\"\"\"\n",
    "df = pd.concat([df_dum, df_float], axis=1)\n",
    "print(f'Shape of the final dataframe : {df.shape}')"
   ]
  },
  {
   "cell_type": "markdown",
   "metadata": {},
   "source": [
    "## Part 4: Build Model "
   ]
  },
  {
   "cell_type": "markdown",
   "metadata": {},
   "source": [
    "Label values extraction"
   ]
  },
  {
   "cell_type": "code",
   "execution_count": 27,
   "metadata": {},
   "outputs": [],
   "source": [
    "y = df.Y\n",
    "X = df.drop('Y', axis=1)"
   ]
  },
  {
   "cell_type": "markdown",
   "metadata": {},
   "source": [
    "Looking for Label Balance in the Dataset\n",
    "\n",
    "0 = \"satisfied\" (postive class)\n",
    "\n",
    "1 = \"neutral or dissatisfied\" (negative class)"
   ]
  },
  {
   "cell_type": "code",
   "execution_count": 28,
   "metadata": {},
   "outputs": [
    {
     "name": "stdout",
     "output_type": "stream",
     "text": [
      "Class Labels: {0, 1}\n",
      "Zero Count = 56428, One Count = 73452\n",
      "Class distributions : (0.4345, 0.5655)\n"
     ]
    }
   ],
   "source": [
    "print(f'Class Labels: {set(y)}')\n",
    "print(f'Zero Count = {len(y) - sum(y)}, One Count = {sum(y)}')\n",
    "zero_frac = (len(y)-sum(y))/len(y)\n",
    "one_frac  =  sum(y)/len(y)\n",
    "print(f'Class distributions : {round(zero_frac,4), round(one_frac,4)}')"
   ]
  },
  {
   "cell_type": "markdown",
   "metadata": {},
   "source": [
    "Data Split Train (80) - Test (20)"
   ]
  },
  {
   "cell_type": "code",
   "execution_count": 29,
   "metadata": {},
   "outputs": [
    {
     "name": "stdout",
     "output_type": "stream",
     "text": [
      "train data: (90916, 96)\n",
      "test data : (38964, 96)\n"
     ]
    }
   ],
   "source": [
    "theSeed = 213\n",
    "X_train, X_test, y_train, y_test = train_test_split(X, y, train_size=0.70, random_state=theSeed)\n",
    "print(f'train data: {X_train.shape}')\n",
    "print(f'test data : {X_test.shape}')"
   ]
  },
  {
   "cell_type": "markdown",
   "metadata": {},
   "source": [
    "#### Build Model \n",
    "\n",
    "Using Default Hyper-Parameters"
   ]
  },
  {
   "cell_type": "code",
   "execution_count": 30,
   "metadata": {},
   "outputs": [],
   "source": [
    "model = XGBClassifier(\n",
    "    objective=\"binary:logistic\", \n",
    "    eval_metric=\"auc\"\n",
    ")\n",
    "xgb = model.fit(X_train, y_train)"
   ]
  },
  {
   "cell_type": "markdown",
   "metadata": {},
   "source": [
    "#### Prediction"
   ]
  },
  {
   "cell_type": "code",
   "execution_count": 31,
   "metadata": {},
   "outputs": [],
   "source": [
    "y_pred = xgb.predict(X_test)\n",
    "predictions = [round(value) for value in y_pred]"
   ]
  },
  {
   "cell_type": "code",
   "execution_count": 32,
   "metadata": {},
   "outputs": [
    {
     "name": "stdout",
     "output_type": "stream",
     "text": [
      "The AUC of the XGB Model: 0.99497\n"
     ]
    }
   ],
   "source": [
    "y_pred = model.predict_proba(X_test)[:,1]\n",
    "print('The AUC of the XGB Model:', round( roc_auc_score(y_test,y_pred),5) )"
   ]
  },
  {
   "cell_type": "code",
   "execution_count": 33,
   "metadata": {},
   "outputs": [
    {
     "name": "stdout",
     "output_type": "stream",
     "text": [
      "The Accuracy of the XGB Model : 0.9648\n"
     ]
    }
   ],
   "source": [
    "accuracy = accuracy_score(y_test, predictions)\n",
    "print(f\"The Accuracy of the XGB Model : {round(accuracy, 4)}\")"
   ]
  },
  {
   "cell_type": "markdown",
   "metadata": {},
   "source": [
    "#### Feature Importance "
   ]
  },
  {
   "cell_type": "code",
   "execution_count": 34,
   "metadata": {},
   "outputs": [],
   "source": [
    "feature_important = xgb.get_booster().get_score(importance_type='weight')\n",
    "\n",
    "key = list(feature_important.keys())\n",
    "val = list(feature_important.values())\n",
    "\n",
    "df_imp = pd.DataFrame(data=val, index=key, columns=[\"score\"])\n",
    "df_imp = df_imp.sort_values(by = \"score\", ascending=False).reset_index().rename(columns={'index':'feature'})"
   ]
  },
  {
   "cell_type": "code",
   "execution_count": 35,
   "metadata": {},
   "outputs": [
    {
     "data": {
      "image/png": "[encoded data removed]",
      "text/plain": [
       "<Figure size 1800x1000 with 1 Axes>"
      ]
     },
     "metadata": {},
     "output_type": "display_data"
    }
   ],
   "source": [
    "fig = plt.subplots( figsize=(18,10) )\n",
    "\n",
    "colors = plt.cm.rainbow( np.linspace(0.1, 1.0, len(val))  )\n",
    "\n",
    "\n",
    "plt.barh(df_imp.loc[0:15,'feature'], df_imp.loc[0:15,'score'], color=colors)\n",
    "plt.xticks(rotation=90)\n",
    "plt.show()"
   ]
  }
 ],
 "metadata": {
  "kernelspec": {
   "display_name": "Python 3 (ipykernel)",
   "language": "python",
   "name": "python3"
  },
  "language_info": {
   "codemirror_mode": {
    "name": "ipython",
    "version": 3
   },
   "file_extension": ".py",
   "mimetype": "text/x-python",
   "name": "python",
   "nbconvert_exporter": "python",
   "pygments_lexer": "ipython3",
   "version": "3.10.8"
  }
 },
 "nbformat": 4,
 "nbformat_minor": 4
}
